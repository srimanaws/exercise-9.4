{
 "cells": [
  {
   "cell_type": "code",
   "execution_count": null,
   "id": "d0bdb050-ab80-4cc5-acbc-5de179e9164b",
   "metadata": {},
   "outputs": [],
   "source": [
    "# Exercise 9.4 by sriman"
   ]
  },
  {
   "cell_type": "code",
   "execution_count": 1,
   "id": "176ad57e-0945-4f93-a372-81c7f77572e7",
   "metadata": {},
   "outputs": [
    {
     "name": "stdout",
     "output_type": "stream",
     "text": [
      "First Name     Last Name      Exam 1    Exam 2    Exam 3    \n",
      "------------------------------------------------------------\n",
      "sriman         selva          77        99        88        \n",
      "jack           lee            96        74        85        \n",
      "amy            lee            75        95        84        \n",
      "tee            ree            98        78        54        \n"
     ]
    }
   ],
   "source": [
    "import csv\n",
    "\n",
    "def read_student_grades():\n",
    "    # Open the CSV file in read mode\n",
    "    with open('grades.csv', mode='r') as file:\n",
    "        reader = csv.reader(file)\n",
    "        \n",
    "        # Print the header so the table looks good\n",
    "        print(f\"{'First Name':<15}{'Last Name':<15}{'Exam 1':<10}{'Exam 2':<10}{'Exam 3':<10}\")\n",
    "        print('-' * 60)\n",
    "        \n",
    "        # Skip the header (the column names) when reading\n",
    "        next(reader)\n",
    "        \n",
    "        # Now print each student's info row by row\n",
    "        for row in reader:\n",
    "            firstname, lastname, exam1, exam2, exam3 = row\n",
    "            print(f\"{firstname:<15}{lastname:<15}{exam1:<10}{exam2:<10}{exam3:<10}\")\n",
    "\n",
    "read_student_grades()\n"
   ]
  },
  {
   "cell_type": "code",
   "execution_count": null,
   "id": "decf7ac7-cdd9-4409-9928-475effed03df",
   "metadata": {},
   "outputs": [],
   "source": []
  }
 ],
 "metadata": {
  "kernelspec": {
   "display_name": "Python 3 (ipykernel)",
   "language": "python",
   "name": "python3"
  },
  "language_info": {
   "codemirror_mode": {
    "name": "ipython",
    "version": 3
   },
   "file_extension": ".py",
   "mimetype": "text/x-python",
   "name": "python",
   "nbconvert_exporter": "python",
   "pygments_lexer": "ipython3",
   "version": "3.12.4"
  }
 },
 "nbformat": 4,
 "nbformat_minor": 5
}
